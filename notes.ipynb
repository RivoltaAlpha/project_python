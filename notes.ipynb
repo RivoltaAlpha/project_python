{
 "cells": [
  {
   "cell_type": "markdown",
   "metadata": {},
   "source": [
    "# Course Outline\n",
    "\n",
    "1. Introduction to Python\n",
    "\n",
    "2. Python Basics\n",
    "\n",
    "3. Control Structures\n",
    "\n",
    "4. Functions and Modules\n",
    "\n",
    "5. Data Structures\n",
    "\n",
    "6. File Handling\n",
    "\n",
    "7. Exception Handling\n",
    "\n",
    "8. Object-Oriented Programming\n",
    "\n",
    "9. Advanced Topics\n",
    "\n",
    "10. Projects"
   ]
  },
  {
   "cell_type": "code",
   "execution_count": null,
   "metadata": {},
   "outputs": [],
   "source": []
  },
  {
   "cell_type": "markdown",
   "metadata": {},
   "source": [
    "# 1. Introduction to Python"
   ]
  },
  {
   "cell_type": "markdown",
   "metadata": {},
   "source": [
    "\n",
    "\n",
    "### What is Python?\n",
    "\n",
    "Python is a high-level, interpreted programming language known for its simplicity and readability. It's widely used in various fields, including web development, data analysis, artificial intelligence, \n",
    "\n",
    "scientific computing, and more.\n",
    "\n",
    "### Installing Python\n",
    "\n",
    "To start coding in Python, you need to install it on your machine. Download the latest version of Python from the [official Python website](https://www.python.org/).\n",
    "\n",
    "### Setting Up Your Development Environment\n",
    "\n",
    "We'll use an Integrated Development Environment (IDE) called VSCode. Download and install it from the [VSCode website](https://code.visualstudio.com/).\n"
   ]
  },
  {
   "cell_type": "markdown",
   "metadata": {},
   "source": []
  },
  {
   "cell_type": "markdown",
   "metadata": {},
   "source": [
    "# 2. Variables and Data Types\n",
    "\n",
    "Variables are used to store data. Python supports various data types, including integers, floats, strings, and booleans."
   ]
  },
  {
   "cell_type": "code",
   "execution_count": 1,
   "metadata": {},
   "outputs": [
    {
     "name": "stdout",
     "output_type": "stream",
     "text": [
      "21 5.9 Tiffany True\n"
     ]
    }
   ],
   "source": [
    "# Integer\n",
    "age = 21\n",
    "\n",
    "# Float\n",
    "height = 5.9\n",
    "\n",
    "# String\n",
    "name = \"Tiffany\"\n",
    "\n",
    "# Boolean\n",
    "is_student = True\n",
    "\n",
    "print(age, height, name, is_student)\n"
   ]
  },
  {
   "cell_type": "code",
   "execution_count": null,
   "metadata": {},
   "outputs": [
    {
     "name": "stdout",
     "output_type": "stream",
     "text": [
      "15\n",
      "5\n",
      "50\n",
      "2.0\n",
      "3\n",
      "1\n",
      "8\n"
     ]
    }
   ],
   "source": [
    "# Basic operations\n",
    "\n",
    "# Addition\n",
    "print(10 + 5)\n",
    "\n",
    "# Subtraction\n",
    "print(10 - 5)\n",
    "\n",
    "# Multiplication \n",
    "print(10 * 5)\n",
    "\n",
    "# Division Returns a float\n",
    "print(10 / 5)   \n",
    "\n",
    "# Floor Division (rounds down to the nearest whole number)\n",
    "print(10 // 3)\n",
    "\n",
    "# Modulus (returns the remainder of the division)\n",
    "print(10 % 3)\n",
    "\n",
    "# Exponentiation (raise to the power of)\n",
    "print(2 ** 3)\n"
   ]
  },
  {
   "cell_type": "markdown",
   "metadata": {},
   "source": [
    "# 3. Control Structures"
   ]
  },
  {
   "cell_type": "markdown",
   "metadata": {},
   "source": []
  },
  {
   "cell_type": "markdown",
   "metadata": {},
   "source": [
    "### Conditional Statements\n",
    "\n",
    "Control the flow of your program using if, elif, and else statements."
   ]
  },
  {
   "cell_type": "code",
   "execution_count": 3,
   "metadata": {},
   "outputs": [
    {
     "name": "stdout",
     "output_type": "stream",
     "text": [
      "x is greater than y\n"
     ]
    }
   ],
   "source": [
    "x = 10\n",
    "y = 5\n",
    "if x > y:\n",
    "    print(\"x is greater than y\")"
   ]
  },
  {
   "cell_type": "code",
   "execution_count": null,
   "metadata": {},
   "outputs": [],
   "source": [
    "x = 5\n",
    "if x > 0:\n",
    "    print(\"x is positive\")\n",
    "elif x == 0:\n",
    "    print(\"x is zero\")\n",
    "else:\n",
    "    print(\"x is negative\")"
   ]
  },
  {
   "cell_type": "markdown",
   "metadata": {},
   "source": [
    "### Loops"
   ]
  },
  {
   "cell_type": "code",
   "execution_count": 5,
   "metadata": {},
   "outputs": [
    {
     "name": "stdout",
     "output_type": "stream",
     "text": [
      "0\n",
      "1\n",
      "2\n",
      "3\n",
      "4\n"
     ]
    }
   ],
   "source": [
    "# While loop\n",
    "count = 0\n",
    "while count < 5:\n",
    "    print(count)\n",
    "    count += 1"
   ]
  },
  {
   "cell_type": "code",
   "execution_count": 6,
   "metadata": {},
   "outputs": [
    {
     "name": "stdout",
     "output_type": "stream",
     "text": [
      "apple\n",
      "banana\n",
      "cherry\n"
     ]
    }
   ],
   "source": [
    "# For loop\n",
    "fruits = [\"apple\", \"banana\", \"cherry\"]\n",
    "for fruit in fruits:\n",
    "    print(fruit)\n"
   ]
  },
  {
   "cell_type": "markdown",
   "metadata": {},
   "source": [
    "### Loop Control Statements\n",
    "\n",
    "Use `break` and `continue` to control loop execution."
   ]
  },
  {
   "cell_type": "code",
   "execution_count": 12,
   "metadata": {},
   "outputs": [
    {
     "name": "stdout",
     "output_type": "stream",
     "text": [
      "0\n",
      "1\n",
      "2\n",
      "4\n",
      "\n",
      "\n",
      "0\n",
      "1\n",
      "2\n",
      "3\n",
      "4\n"
     ]
    }
   ],
   "source": [
    "for i in range(5):\n",
    "    if i == 3:\n",
    "        continue\n",
    "    print(i)\n",
    "\n",
    "print(\"\\n\")\n",
    "\n",
    "for i in range(10):\n",
    "    if i == 5:\n",
    "        break\n",
    "    print(i)"
   ]
  },
  {
   "cell_type": "markdown",
   "metadata": {},
   "source": [
    "# 4. Functions and Modules\n",
    "\n",
    "Functions help in organizing and reusing code."
   ]
  },
  {
   "cell_type": "code",
   "execution_count": 14,
   "metadata": {},
   "outputs": [
    {
     "name": "stdout",
     "output_type": "stream",
     "text": [
      "Hello, my name is Tiffany!\n"
     ]
    }
   ],
   "source": [
    "# Basic function structure\n",
    "def tiff():\n",
    "    print(\"Hello, my name is Tiffany!\")\n",
    "    \n",
    "tiff()"
   ]
  },
  {
   "cell_type": "code",
   "execution_count": 15,
   "metadata": {},
   "outputs": [
    {
     "data": {
      "text/plain": [
       "15"
      ]
     },
     "execution_count": 15,
     "metadata": {},
     "output_type": "execute_result"
    }
   ],
   "source": [
    "def add(x, y):\n",
    "    return x + y\n",
    "\n",
    "add(5, 10)"
   ]
  },
  {
   "cell_type": "markdown",
   "metadata": {},
   "source": [
    "### Modules\n",
    "\n",
    "Modules are Python files containing definitions and statements. Use the `import` statement to include them in your program."
   ]
  },
  {
   "cell_type": "code",
   "execution_count": 17,
   "metadata": {},
   "outputs": [
    {
     "name": "stdout",
     "output_type": "stream",
     "text": [
      "1\n",
      "3\n",
      "8\n"
     ]
    }
   ],
   "source": [
    "import random\n",
    "print(random.randint(1, 10))\n",
    "print(random.randint(1, 10))\n",
    "print(random.randint(1, 10))"
   ]
  },
  {
   "cell_type": "markdown",
   "metadata": {},
   "source": [
    "# 5. Data Structures\n",
    "\n",
    "### Lists\n",
    "\n",
    "Lists are ordered collections of items."
   ]
  },
  {
   "cell_type": "code",
   "execution_count": 25,
   "metadata": {},
   "outputs": [
    {
     "name": "stdout",
     "output_type": "stream",
     "text": [
      "elderberry\n",
      "nectarine\n",
      "fig\n",
      "ximenia\n",
      "honeydew\n"
     ]
    }
   ],
   "source": [
    "fruits = ['apple', 'banana', 'cherry', 'date', 'elderberry','fig', 'grape', 'honeydew', 'imbe', 'jackfruit', 'kiwi', 'lemon', 'mango', 'nectarine', 'orange', 'papaya', 'quince', 'raspberry', 'strawberry', 'tangerine', 'ugli', 'vanilla', 'watermelon', 'ximenia', 'yuzu']\n",
    "\n",
    "for i in range(5):\n",
    "    random_fruit = random.choice(fruits)\n",
    "    print(random_fruit)    "
   ]
  },
  {
   "cell_type": "code",
   "execution_count": 26,
   "metadata": {},
   "outputs": [
    {
     "name": "stdout",
     "output_type": "stream",
     "text": [
      "['apple', 'banana', 'cherry']\n",
      "apple\n",
      "['apple', 'blueberry', 'cherry']\n",
      "['apple', 'blueberry', 'cherry', 'orange']\n",
      "['blueberry', 'cherry', 'orange']\n"
     ]
    }
   ],
   "source": [
    "fruits = [\"apple\", \"banana\", \"cherry\"]\n",
    "print(fruits)\n",
    "\n",
    "# Accessing elements\n",
    "print(fruits[0])\n",
    "\n",
    "# Modifying elements\n",
    "fruits[1] = \"blueberry\"\n",
    "print(fruits)\n",
    "\n",
    "# Adding elements\n",
    "fruits.append(\"orange\")\n",
    "print(fruits)\n",
    "\n",
    "# Removing elements\n",
    "fruits.remove(\"apple\")\n",
    "print(fruits)\n"
   ]
  },
  {
   "cell_type": "markdown",
   "metadata": {},
   "source": [
    "### Tuples\n",
    "\n",
    "Tuples are immutable ordered collections."
   ]
  },
  {
   "cell_type": "code",
   "execution_count": 29,
   "metadata": {},
   "outputs": [
    {
     "name": "stdout",
     "output_type": "stream",
     "text": [
      "apple\n"
     ]
    },
    {
     "ename": "TypeError",
     "evalue": "'tuple' object does not support item assignment",
     "output_type": "error",
     "traceback": [
      "\u001b[1;31m---------------------------------------------------------------------------\u001b[0m",
      "\u001b[1;31mTypeError\u001b[0m                                 Traceback (most recent call last)",
      "Cell \u001b[1;32mIn[29], line 8\u001b[0m\n\u001b[0;32m      5\u001b[0m \u001b[38;5;28mprint\u001b[39m(fruits[\u001b[38;5;241m0\u001b[39m])\n\u001b[0;32m      7\u001b[0m \u001b[38;5;66;03m# Modifying elements\u001b[39;00m\n\u001b[1;32m----> 8\u001b[0m \u001b[43mfruits\u001b[49m\u001b[43m[\u001b[49m\u001b[38;5;241;43m1\u001b[39;49m\u001b[43m]\u001b[49m \u001b[38;5;241m=\u001b[39m \u001b[38;5;124m\"\u001b[39m\u001b[38;5;124mblueberry\u001b[39m\u001b[38;5;124m\"\u001b[39m \u001b[38;5;66;03m# This will throw an error\u001b[39;00m\n",
      "\u001b[1;31mTypeError\u001b[0m: 'tuple' object does not support item assignment"
     ]
    }
   ],
   "source": [
    "# Tuples\n",
    "fruits = (\"apple\", \"banana\", \"cherry\")\n",
    "\n",
    "# Accessing elements\n",
    "print(fruits[0])\n",
    "\n",
    "# Modifying elements\n",
    "fruits[1] = \"blueberry\" # This will throw an error\n"
   ]
  },
  {
   "cell_type": "markdown",
   "metadata": {},
   "source": [
    "### Sets\n",
    "\n",
    "Sets are unordered collections of unique elements."
   ]
  },
  {
   "cell_type": "code",
   "execution_count": 27,
   "metadata": {},
   "outputs": [
    {
     "name": "stdout",
     "output_type": "stream",
     "text": [
      "{1, 2, 3, 4, 5}\n",
      "{1, 2, 3, 4, 5, 6}\n",
      "{2, 3, 4, 5, 6}\n"
     ]
    }
   ],
   "source": [
    "unique_numbers = {1, 2, 3, 4, 5}\n",
    "print(unique_numbers)\n",
    "\n",
    "# Adding elements\n",
    "unique_numbers.add(6)\n",
    "print(unique_numbers)\n",
    "\n",
    "# Removing elements\n",
    "unique_numbers.remove(1)\n",
    "print(unique_numbers)\n"
   ]
  },
  {
   "cell_type": "markdown",
   "metadata": {},
   "source": [
    "### Dictionaries\n",
    "\n",
    "Dictionaries store key-value pairs."
   ]
  },
  {
   "cell_type": "code",
   "execution_count": 30,
   "metadata": {},
   "outputs": [
    {
     "name": "stdout",
     "output_type": "stream",
     "text": [
      "{'name': 'Tiffany', 'age': 21}\n",
      "Tiffany\n",
      "{'name': 'Tiffany', 'age': 22}\n",
      "{'name': 'Tiffany', 'age': 22, 'height': 5.9}\n",
      "{'name': 'Tiffany', 'age': 22}\n"
     ]
    }
   ],
   "source": [
    "person = {\"name\": \"Tiffany\", \"age\": 21}\n",
    "print(person)\n",
    "\n",
    "# Accessing values\n",
    "print(person[\"name\"])\n",
    "\n",
    "# Modifying values\n",
    "person[\"age\"] = 22\n",
    "print(person)\n",
    "\n",
    "# Adding key-value pairs\n",
    "person[\"height\"] = 5.9\n",
    "print(person)\n",
    "\n",
    "# Removing key-value pairs\n",
    "del person[\"height\"]\n",
    "print(person)\n"
   ]
  },
  {
   "cell_type": "markdown",
   "metadata": {},
   "source": []
  },
  {
   "cell_type": "markdown",
   "metadata": {},
   "source": [
    "# 6. File Handling\n",
    "\n",
    "Python makes it easy to work with files. it Reads and Writes Files"
   ]
  },
  {
   "cell_type": "code",
   "execution_count": 31,
   "metadata": {},
   "outputs": [
    {
     "name": "stdout",
     "output_type": "stream",
     "text": [
      "Hello, World!\n"
     ]
    }
   ],
   "source": [
    "# Writing to a file\n",
    "with open(\"example.txt\", \"w\") as file:\n",
    "    file.write(\"Hello, World!\")\n",
    "\n",
    "# Reading from a file\n",
    "with open(\"example.txt\", \"r\") as file:\n",
    "    content = file.read()\n",
    "    print(content)\n"
   ]
  },
  {
   "attachments": {
    "image.png": {
     "image/png": "[encoded data removed]"
    }
   },
   "cell_type": "markdown",
   "metadata": {},
   "source": [
    "![image.png](attachment:image.png)"
   ]
  },
  {
   "cell_type": "markdown",
   "metadata": {},
   "source": [
    "# 7. Exception & Error Handling\n",
    "\n",
    "Use try, except, and finally to handle errors gracefully."
   ]
  },
  {
   "cell_type": "code",
   "execution_count": 33,
   "metadata": {},
   "outputs": [
    {
     "name": "stdout",
     "output_type": "stream",
     "text": [
      "You can't divide by zero!\n",
      "This will always execute whether the exception is thrown or not.\n"
     ]
    }
   ],
   "source": [
    "try:\n",
    "    result = 10 / 0\n",
    "except ZeroDivisionError:\n",
    "    print(\"You can't divide by zero!\")\n",
    "finally:\n",
    "    print(\"This will always execute whether the exception is thrown or not.\")\n"
   ]
  },
  {
   "cell_type": "code",
   "execution_count": 36,
   "metadata": {},
   "outputs": [
    {
     "name": "stdout",
     "output_type": "stream",
     "text": [
      "SyntaxError: invalid syntax (<string>, line 1)\n",
      "\n",
      "\n",
      "NameError: name 'undefined_variable' is not defined\n",
      "\n",
      "\n",
      "TypeError: can only concatenate str (not \"int\") to str\n",
      "\n",
      "\n",
      "IndexError: tuple index out of range\n",
      "\n",
      "\n",
      "KeyError: 'height'\n",
      "\n",
      "\n",
      "ValueError: invalid literal for int() with base 10: 'abc'\n",
      "\n",
      "\n",
      "AttributeError: 'tuple' object has no attribute 'append'\n",
      "\n",
      "\n",
      "ZeroDivisionError: division by zero\n"
     ]
    }
   ],
   "source": [
    "# SyntaxError\n",
    "try:\n",
    "    eval('x === x')\n",
    "except SyntaxError as e:\n",
    "    print(f\"SyntaxError: {e}\")\n",
    "print(\"\\n\")\n",
    "\n",
    "# NameError\n",
    "try:\n",
    "    print(undefined_variable)\n",
    "except NameError as e:\n",
    "    print(f\"NameError: {e}\")\n",
    "print(\"\\n\")\n",
    "\n",
    "# TypeError\n",
    "try:\n",
    "    result = '2' + 2\n",
    "except TypeError as e:\n",
    "    print(f\"TypeError: {e}\")\n",
    "print(\"\\n\")\n",
    "\n",
    "# IndexError\n",
    "try:\n",
    "    print(fruits[5])\n",
    "except IndexError as e:\n",
    "    print(f\"IndexError: {e}\")\n",
    "print(\"\\n\")\n",
    "\n",
    "# KeyError\n",
    "try:\n",
    "    print(person['height'])\n",
    "except KeyError as e:\n",
    "    print(f\"KeyError: {e}\")\n",
    "print(\"\\n\")\n",
    "\n",
    "# ValueError\n",
    "try:\n",
    "    int(\"abc\")\n",
    "except ValueError as e:\n",
    "    print(f\"ValueError: {e}\")\n",
    "print(\"\\n\")\n",
    "\n",
    "# AttributeError\n",
    "try:\n",
    "    fruits.append(\"orange\")\n",
    "except AttributeError as e:\n",
    "    print(f\"AttributeError: {e}\")\n",
    "    \n",
    "print(\"\\n\")\n",
    "# ZeroDivisionError\n",
    "try:\n",
    "    result = 10 / 0\n",
    "except ZeroDivisionError as e:\n",
    "    print(f\"ZeroDivisionError: {e}\")"
   ]
  }
 ],
 "metadata": {
  "kernelspec": {
   "display_name": "Python 3",
   "language": "python",
   "name": "python3"
  },
  "language_info": {
   "codemirror_mode": {
    "name": "ipython",
    "version": 3
   },
   "file_extension": ".py",
   "mimetype": "text/x-python",
   "name": "python",
   "nbconvert_exporter": "python",
   "pygments_lexer": "ipython3",
   "version": "3.12.3"
  }
 },
 "nbformat": 4,
 "nbformat_minor": 2
}
